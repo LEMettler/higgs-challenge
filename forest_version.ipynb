{
 "cells": [
  {
   "cell_type": "markdown",
   "metadata": {},
   "source": [
    "# Analyzing the Data"
   ]
  },
  {
   "cell_type": "markdown",
   "metadata": {},
   "source": [
    "# Data preparation"
   ]
  },
  {
   "cell_type": "code",
   "execution_count": 15,
   "metadata": {},
   "outputs": [],
   "source": [
    "#import uproot\n",
    "import pandas as pd\n",
    "import numpy as np\n",
    "import matplotlib.pyplot as plt\n",
    "\n",
    "import ROOT;\n",
    "#import lumiere as lm\n",
    "#lm.loadstyle(True);\n",
    "\n",
    "from sklearn.metrics import roc_auc_score, roc_curve\n",
    "\n",
    "def ams_score(x, y, w, cut):\n",
    "# Calculate Average Mean Significane as defined in ATLAS paper\n",
    "#    -  approximative formula for large statistics with regularisation\n",
    "# x: array of truth values (1 if signal)\n",
    "# y: array of classifier result\n",
    "# w: array of event weights\n",
    "# cut\n",
    "    t = y > cut \n",
    "    s = np.sum((x[t] == 1)*w[t])\n",
    "    b = np.sum((x[t] == 0)*w[t])\n",
    "    return s/np.sqrt(b+10.0)\n",
    "\n",
    "def find_best_ams_score(x, y, w):\n",
    "# find best value of AMS by scanning cut values; \n",
    "# x: array of truth values (1 if signal)\n",
    "# y: array of classifier results\n",
    "# w: array of event weights\n",
    "#  returns \n",
    "#   ntuple of best value of AMS and the corresponding cut value\n",
    "#   list with corresponding pairs (ams, cut) \n",
    "# ----------------------------------------------------------\n",
    "    ymin=min(y) # classifiers may not be in range [0.,1.]\n",
    "    ymax=max(y)\n",
    "    nprobe=200    # number of (equally spaced) scan points to probe classifier \n",
    "    amsvec= [(ams_score(x, y, w, cut), cut) for cut in np.linspace(ymin, ymax, nprobe)] \n",
    "    maxams=sorted(amsvec, key=lambda lst: lst[0] )[-1]\n",
    "    return maxams, amsvec\n",
    "\n",
    "\n",
    "\n",
    "\n",
    "def printScore(model):\n",
    "\n",
    "    try:\n",
    "        pred_clf = model.predict_proba(x_val)[:, 1]\n",
    "    except:\n",
    "        pred_clf = model.predict(x_val)\n",
    "        pred_clf = pred_clf.reshape((pred_clf.shape[0],))\n",
    "\n",
    "    auc = roc_auc_score(y_val, pred_clf, sample_weight=w_val)\n",
    "    print('AUC:', auc)\n",
    "    bs = find_best_ams_score(y_val, pred_clf, w_val)\n",
    "    print('AMS:', bs[0][0])\n",
    "    print('AMS total:', bs[0][0]*np.sqrt(50))"
   ]
  },
  {
   "cell_type": "markdown",
   "metadata": {},
   "source": [
    "## Read-in & to Pandas"
   ]
  },
  {
   "cell_type": "code",
   "execution_count": 16,
   "metadata": {},
   "outputs": [
    {
     "name": "stdout",
     "output_type": "stream",
     "text": [
      "31\n"
     ]
    }
   ],
   "source": [
    "input_columns = ['DER_deltaeta_jet_jet', 'DER_deltar_tau_lep', 'DER_lep_eta_centrality', 'DER_mass_MMC', 'DER_mass_jet_jet', \n",
    "                 'DER_mass_transverse_met_lep', 'DER_mass_vis', 'DER_met_phi_centrality', 'DER_prodeta_jet_jet', 'DER_pt_h', \n",
    "                 'DER_pt_ratio_lep_tau', 'DER_pt_tot', 'DER_sum_pt', 'PRI_jet_all_pt', 'PRI_jet_leading_eta', 'PRI_jet_leading_phi', \n",
    "                 'PRI_jet_leading_pt', 'PRI_jet_num', 'PRI_jet_subleading_eta', 'PRI_jet_subleading_phi', 'PRI_jet_subleading_pt', \n",
    "                 'PRI_lep_eta', 'PRI_lep_phi', 'PRI_lep_pt', 'PRI_met', 'PRI_met_phi', 'PRI_met_sumet', 'PRI_tau_eta', 'PRI_tau_phi', \n",
    "                 'PRI_tau_pt', 'transverse_lepton_jet_mass']\n",
    "print(len(input_columns))"
   ]
  },
  {
   "cell_type": "code",
   "execution_count": 17,
   "metadata": {},
   "outputs": [],
   "source": [
    "RDF = ROOT.ROOT.RDataFrame\n",
    "\n",
    "signal_tree_name = 'signal'\n",
    "background_tree_name = 'background'\n",
    "test_tree_name = 'validation'\n",
    "file_name = 'atlas-higgs-challenge-2014-v2_part.root'\n",
    "\n",
    "rdf_signal = RDF(signal_tree_name, file_name)\n",
    "rdf_bkg = RDF(background_tree_name, file_name)\n",
    "rdf_test = RDF(test_tree_name, file_name)\n",
    "\n",
    "reconstruct_transverse_lepton_jet_mass = '''\n",
    "\n",
    "float lep_px = PRI_lep_pt * TMath::Cos(PRI_lep_phi);\n",
    "float lep_py = PRI_lep_pt * TMath::Sin(PRI_lep_phi);\n",
    "float jet_px = PRI_jet_leading_pt * TMath::Cos(PRI_jet_leading_phi);\n",
    "float jet_py = PRI_jet_leading_pt * TMath::Sin(PRI_jet_leading_phi);\n",
    "\n",
    "//calculate angle between jet and lepton\n",
    "float cos_theta = (lep_px*jet_px + lep_py*jet_py) / PRI_lep_pt / PRI_jet_leading_pt;\n",
    "\n",
    "return PRI_lep_pt * PRI_jet_leading_pt * (1 - cos_theta);\n",
    "'''\n",
    "\n",
    "#insertion\n",
    "rdf_signal = rdf_signal.Define('transverse_lepton_jet_mass', reconstruct_transverse_lepton_jet_mass)\n",
    "rdf_bkg = rdf_bkg.Define('transverse_lepton_jet_mass', reconstruct_transverse_lepton_jet_mass)\n",
    "rdf_test = rdf_test.Define('transverse_lepton_jet_mass', reconstruct_transverse_lepton_jet_mass)\n",
    "\n",
    "# label classification to int values\n",
    "rdf_test = rdf_test.Define('IntLabel', '''\n",
    "const char ch = Label[0];\n",
    "const char s = 's';\n",
    "if(ch == s){\n",
    "    return 1;\n",
    "}\n",
    "else{\n",
    "    return 0;\n",
    "}\n",
    "''')\n",
    "\n",
    "\n",
    "df_signal = pd.DataFrame(rdf_signal.AsNumpy())\n",
    "df_bg = pd.DataFrame(rdf_bkg.AsNumpy())\n",
    "df_test = pd.DataFrame(rdf_test.AsNumpy())\n"
   ]
  },
  {
   "cell_type": "markdown",
   "metadata": {},
   "source": [
    "## concatination, shuffle and split"
   ]
  },
  {
   "cell_type": "code",
   "execution_count": 18,
   "metadata": {},
   "outputs": [],
   "source": [
    "from sklearn.utils import shuffle;\n",
    "from sklearn.model_selection import train_test_split;\n",
    "\n",
    "#input feature arrays\n",
    "vars_signal = df_signal[input_columns].to_numpy()\n",
    "vars_bg = df_bg[input_columns].to_numpy()\n",
    "vars_test = df_test[input_columns].to_numpy()\n",
    "\n",
    "inputs = np.concatenate([vars_signal, vars_bg])\n",
    "\n",
    "#weights\n",
    "weight_signal = df_signal['Weight'].to_numpy()\n",
    "weight_bg = df_bg['Weight'].to_numpy()\n",
    "weights = np.concatenate([weight_signal, weight_bg])\n",
    "weights = weights.reshape((weights.shape[0],))\n",
    "\n",
    "weights_test = df_test['Weight'].to_numpy()\n",
    "\n",
    "\n",
    "# target classifictionation (1:signal / 0: background)\n",
    "y_signal = np.ones((vars_signal.shape[0], ))\n",
    "y_bg = np.zeros((vars_bg.shape[0], ))\n",
    "\n",
    "targets = np.concatenate([y_signal, y_bg])\n",
    "\n",
    "# for test dataset there is already a classification; convert to int\n",
    "truths_test = df_test.IntLabel.to_numpy()\n",
    "\n",
    "\n",
    "# shuffle \n",
    "inputs, targets, weights = shuffle(inputs, targets, weights)\n",
    "\n",
    "\n",
    "# not for gridcv\n",
    "\n",
    "# training and validation split  (80, 20)\n",
    "x_train, x_val, y_train, y_val, w_train, w_val = train_test_split(inputs, targets, weights, test_size=0.2)\n",
    "#x_train, y_train = inputs, targets"
   ]
  },
  {
   "cell_type": "markdown",
   "metadata": {},
   "source": [
    "## Pipeline approach"
   ]
  },
  {
   "cell_type": "code",
   "execution_count": 19,
   "metadata": {},
   "outputs": [],
   "source": [
    "# custom AMS scorer\n",
    "def BuildScorer(validation_x, validation_y, validation_weight):\n",
    "\n",
    "    def AMS_scorer(estimator, X, y):\n",
    "        predictions = estimator.predict_proba(validation_x)[:, 1]\n",
    "        score = find_best_ams_score(validation_y, predictions, validation_weight)\n",
    "        return score[0][0] \n",
    "    \n",
    "    return AMS_scorer"
   ]
  },
  {
   "cell_type": "code",
   "execution_count": 20,
   "metadata": {
    "scrolled": true
   },
   "outputs": [],
   "source": [
    "from sklearn.pipeline import Pipeline\n",
    "from sklearn.preprocessing import StandardScaler;\n",
    "from sklearn.decomposition import PCA\n",
    "from sklearn.ensemble import GradientBoostingClassifier\n",
    "from sklearn.model_selection import GridSearchCV\n",
    "from sklearn.metrics import make_scorer\n",
    "\n",
    "from sklearn.experimental import enable_halving_search_cv # noqa\n",
    "from sklearn.model_selection import HalvingGridSearchCV\n",
    "\n",
    "\n",
    "scaler = StandardScaler()\n",
    "pca = PCA()\n",
    "clf = GradientBoostingClassifier(random_state=0, verbose=0)\n",
    "\n",
    "pipe = Pipeline([ ('scaler', scaler), ('pca', pca), ('clf', clf)])\n",
    "\n",
    "\n",
    "param_grid = {'pca__n_components': [20, 12],\n",
    "                  'clf__n_estimators': [100, 150, 200, 400],\n",
    "                  'clf__min_samples_leaf': [100, 200, 300],\n",
    "                  'clf__max_depth': [5, 8, 10], \n",
    "                  'clf__learning_rate': [1, 0.5, 0.1, 0.05]\n",
    "                }\n"
   ]
  },
  {
   "cell_type": "markdown",
   "metadata": {},
   "source": [
    "## Validation"
   ]
  },
  {
   "cell_type": "code",
   "execution_count": 21,
   "metadata": {},
   "outputs": [],
   "source": [
    "grid_results = pd.read_csv('halving_results.csv')"
   ]
  },
  {
   "cell_type": "code",
   "execution_count": 22,
   "metadata": {},
   "outputs": [],
   "source": [
    "best_one = grid_results.sort_values('mean_test_score', ascending=False).head(1)"
   ]
  },
  {
   "cell_type": "markdown",
   "metadata": {},
   "source": [
    "## StandardScaling "
   ]
  },
  {
   "cell_type": "code",
   "execution_count": 23,
   "metadata": {},
   "outputs": [],
   "source": [
    "from sklearn.preprocessing import StandardScaler;\n",
    " \n",
    "scaler = StandardScaler()\n",
    "scaler.fit(x_train) #set up only on train data\n",
    " \n",
    "# tranformation applied to all\n",
    "x_train = scaler.transform(x_train)\n",
    "x_val = scaler.transform(x_val)\n",
    "x_test = scaler.transform(vars_test)"
   ]
  },
  {
   "cell_type": "markdown",
   "metadata": {},
   "source": [
    "## SMOTE"
   ]
  },
  {
   "cell_type": "code",
   "execution_count": 24,
   "metadata": {},
   "outputs": [
    {
     "name": "stdout",
     "output_type": "stream",
     "text": [
      "Requirement already satisfied: imbalanced-learn in /opt/conda/lib/python3.10/site-packages (0.12.3)\n",
      "Requirement already satisfied: numpy>=1.17.3 in /opt/conda/lib/python3.10/site-packages (from imbalanced-learn) (1.26.4)\n",
      "Requirement already satisfied: scipy>=1.5.0 in /opt/conda/lib/python3.10/site-packages (from imbalanced-learn) (1.13.0)\n",
      "Requirement already satisfied: scikit-learn>=1.0.2 in /opt/conda/lib/python3.10/site-packages (from imbalanced-learn) (1.4.2)\n",
      "Requirement already satisfied: joblib>=1.1.1 in /opt/conda/lib/python3.10/site-packages (from imbalanced-learn) (1.4.0)\n",
      "Requirement already satisfied: threadpoolctl>=2.0.0 in /opt/conda/lib/python3.10/site-packages (from imbalanced-learn) (3.4.0)\n",
      "Note: you may need to restart the kernel to use updated packages.\n"
     ]
    }
   ],
   "source": [
    "%pip install imbalanced-learn\n",
    "from imblearn.over_sampling import SMOTE\n",
    "\n",
    "\n",
    "# Apply SMOTE to the training data\n",
    "smote = SMOTE()\n",
    "x_train, y_train = smote.fit_resample(x_train, y_train)\n"
   ]
  },
  {
   "cell_type": "markdown",
   "metadata": {},
   "source": [
    "## Dimensionality reduction"
   ]
  },
  {
   "cell_type": "markdown",
   "metadata": {},
   "source": [
    "### PCA"
   ]
  },
  {
   "cell_type": "code",
   "execution_count": 25,
   "metadata": {
    "editable": true,
    "slideshow": {
     "slide_type": ""
    },
    "tags": []
   },
   "outputs": [],
   "source": [
    "from sklearn.decomposition import PCA\n",
    "\n",
    "x_train_pre = x_train\n",
    "\n",
    "pca = PCA(n_components=22)\n",
    "pca.fit(x_train)\n",
    "\n",
    "x_train = pca.transform(x_train)\n",
    "x_val = pca.transform(x_val)\n",
    "x_test = pca.transform(x_test)"
   ]
  },
  {
   "cell_type": "markdown",
   "metadata": {},
   "source": [
    "## Classifier training"
   ]
  },
  {
   "cell_type": "code",
   "execution_count": 26,
   "metadata": {
    "scrolled": true
   },
   "outputs": [
    {
     "name": "stdout",
     "output_type": "stream",
     "text": [
      "building tree 1 of 275\n",
      "building tree 2 of 275\n",
      "building tree 3 of 275\n",
      "building tree 4 of 275\n",
      "building tree 5 of 275\n",
      "building tree 6 of 275\n",
      "building tree 7 of 275\n",
      "building tree 8 of 275\n",
      "building tree 9 of 275\n",
      "building tree 10 of 275\n",
      "building tree 11 of 275\n",
      "building tree 12 of 275\n",
      "building tree 13 of 275\n",
      "building tree 14 of 275\n",
      "building tree 15 of 275\n",
      "building tree 16 of 275\n",
      "building tree 17 of 275\n",
      "building tree 18 of 275\n",
      "building tree 19 of 275\n",
      "building tree 20 of 275\n",
      "building tree 21 of 275\n",
      "building tree 22 of 275\n",
      "building tree 23 of 275\n",
      "building tree 24 of 275\n",
      "building tree 25 of 275\n",
      "building tree 26 of 275\n",
      "building tree 27 of 275\n",
      "building tree 28 of 275\n",
      "building tree 29 of 275\n",
      "building tree 30 of 275\n",
      "building tree 31 of 275\n",
      "building tree 32 of 275\n",
      "building tree 33 of 275\n",
      "building tree 34 of 275\n",
      "building tree 35 of 275\n",
      "building tree 36 of 275\n",
      "building tree 37 of 275\n",
      "building tree 38 of 275\n",
      "building tree 39 of 275\n",
      "building tree 40 of 275\n"
     ]
    },
    {
     "name": "stderr",
     "output_type": "stream",
     "text": [
      "[Parallel(n_jobs=1)]: Done  40 tasks      | elapsed:   13.7s\n"
     ]
    },
    {
     "name": "stdout",
     "output_type": "stream",
     "text": [
      "building tree 41 of 275\n",
      "building tree 42 of 275\n",
      "building tree 43 of 275\n",
      "building tree 44 of 275\n",
      "building tree 45 of 275\n",
      "building tree 46 of 275\n",
      "building tree 47 of 275\n",
      "building tree 48 of 275\n",
      "building tree 49 of 275\n",
      "building tree 50 of 275\n",
      "building tree 51 of 275\n",
      "building tree 52 of 275\n",
      "building tree 53 of 275\n",
      "building tree 54 of 275\n",
      "building tree 55 of 275\n",
      "building tree 56 of 275\n",
      "building tree 57 of 275\n",
      "building tree 58 of 275\n",
      "building tree 59 of 275\n",
      "building tree 60 of 275\n",
      "building tree 61 of 275\n",
      "building tree 62 of 275\n",
      "building tree 63 of 275\n",
      "building tree 64 of 275\n",
      "building tree 65 of 275\n",
      "building tree 66 of 275\n",
      "building tree 67 of 275\n",
      "building tree 68 of 275\n",
      "building tree 69 of 275\n",
      "building tree 70 of 275\n",
      "building tree 71 of 275\n",
      "building tree 72 of 275\n",
      "building tree 73 of 275\n",
      "building tree 74 of 275\n",
      "building tree 75 of 275\n",
      "building tree 76 of 275\n",
      "building tree 77 of 275\n",
      "building tree 78 of 275\n",
      "building tree 79 of 275\n",
      "building tree 80 of 275\n",
      "building tree 81 of 275\n",
      "building tree 82 of 275\n",
      "building tree 83 of 275\n",
      "building tree 84 of 275\n",
      "building tree 85 of 275\n",
      "building tree 86 of 275\n",
      "building tree 87 of 275\n",
      "building tree 88 of 275\n",
      "building tree 89 of 275\n",
      "building tree 90 of 275\n",
      "building tree 91 of 275\n",
      "building tree 92 of 275\n",
      "building tree 93 of 275\n",
      "building tree 94 of 275\n",
      "building tree 95 of 275\n",
      "building tree 96 of 275\n",
      "building tree 97 of 275\n",
      "building tree 98 of 275\n",
      "building tree 99 of 275\n",
      "building tree 100 of 275\n",
      "building tree 101 of 275\n",
      "building tree 102 of 275\n",
      "building tree 103 of 275\n",
      "building tree 104 of 275\n",
      "building tree 105 of 275\n",
      "building tree 106 of 275\n",
      "building tree 107 of 275\n",
      "building tree 108 of 275\n",
      "building tree 109 of 275\n",
      "building tree 110 of 275\n",
      "building tree 111 of 275\n",
      "building tree 112 of 275\n",
      "building tree 113 of 275\n",
      "building tree 114 of 275\n",
      "building tree 115 of 275\n",
      "building tree 116 of 275\n",
      "building tree 117 of 275\n",
      "building tree 118 of 275\n",
      "building tree 119 of 275\n",
      "building tree 120 of 275\n",
      "building tree 121 of 275\n",
      "building tree 122 of 275\n",
      "building tree 123 of 275\n",
      "building tree 124 of 275\n",
      "building tree 125 of 275\n",
      "building tree 126 of 275\n",
      "building tree 127 of 275\n",
      "building tree 128 of 275\n",
      "building tree 129 of 275\n",
      "building tree 130 of 275\n",
      "building tree 131 of 275\n",
      "building tree 132 of 275\n",
      "building tree 133 of 275\n",
      "building tree 134 of 275\n",
      "building tree 135 of 275\n",
      "building tree 136 of 275\n",
      "building tree 137 of 275\n",
      "building tree 138 of 275\n",
      "building tree 139 of 275\n",
      "building tree 140 of 275\n",
      "building tree 141 of 275\n",
      "building tree 142 of 275\n",
      "building tree 143 of 275\n",
      "building tree 144 of 275\n",
      "building tree 145 of 275\n",
      "building tree 146 of 275\n",
      "building tree 147 of 275\n",
      "building tree 148 of 275\n",
      "building tree 149 of 275\n",
      "building tree 150 of 275\n",
      "building tree 151 of 275\n",
      "building tree 152 of 275\n",
      "building tree 153 of 275\n",
      "building tree 154 of 275\n",
      "building tree 155 of 275\n",
      "building tree 156 of 275\n",
      "building tree 157 of 275\n",
      "building tree 158 of 275\n",
      "building tree 159 of 275\n",
      "building tree 160 of 275\n",
      "building tree 161 of 275\n"
     ]
    },
    {
     "name": "stderr",
     "output_type": "stream",
     "text": [
      "[Parallel(n_jobs=1)]: Done 161 tasks      | elapsed:   56.0s\n"
     ]
    },
    {
     "name": "stdout",
     "output_type": "stream",
     "text": [
      "building tree 162 of 275\n",
      "building tree 163 of 275\n",
      "building tree 164 of 275\n",
      "building tree 165 of 275\n",
      "building tree 166 of 275\n",
      "building tree 167 of 275\n",
      "building tree 168 of 275\n",
      "building tree 169 of 275\n",
      "building tree 170 of 275\n",
      "building tree 171 of 275\n",
      "building tree 172 of 275\n",
      "building tree 173 of 275\n",
      "building tree 174 of 275\n",
      "building tree 175 of 275\n",
      "building tree 176 of 275\n",
      "building tree 177 of 275\n",
      "building tree 178 of 275\n",
      "building tree 179 of 275\n",
      "building tree 180 of 275\n",
      "building tree 181 of 275\n",
      "building tree 182 of 275\n",
      "building tree 183 of 275\n",
      "building tree 184 of 275\n",
      "building tree 185 of 275\n",
      "building tree 186 of 275\n",
      "building tree 187 of 275\n",
      "building tree 188 of 275\n",
      "building tree 189 of 275\n",
      "building tree 190 of 275\n",
      "building tree 191 of 275\n",
      "building tree 192 of 275\n",
      "building tree 193 of 275\n",
      "building tree 194 of 275\n",
      "building tree 195 of 275\n",
      "building tree 196 of 275\n",
      "building tree 197 of 275\n",
      "building tree 198 of 275\n",
      "building tree 199 of 275\n",
      "building tree 200 of 275\n",
      "building tree 201 of 275\n",
      "building tree 202 of 275\n",
      "building tree 203 of 275\n",
      "building tree 204 of 275\n",
      "building tree 205 of 275\n",
      "building tree 206 of 275\n",
      "building tree 207 of 275\n",
      "building tree 208 of 275\n",
      "building tree 209 of 275\n",
      "building tree 210 of 275\n",
      "building tree 211 of 275\n",
      "building tree 212 of 275\n",
      "building tree 213 of 275\n",
      "building tree 214 of 275\n",
      "building tree 215 of 275\n",
      "building tree 216 of 275\n",
      "building tree 217 of 275\n",
      "building tree 218 of 275\n",
      "building tree 219 of 275\n",
      "building tree 220 of 275\n",
      "building tree 221 of 275\n",
      "building tree 222 of 275\n",
      "building tree 223 of 275\n",
      "building tree 224 of 275\n",
      "building tree 225 of 275\n",
      "building tree 226 of 275\n",
      "building tree 227 of 275\n",
      "building tree 228 of 275\n",
      "building tree 229 of 275\n",
      "building tree 230 of 275\n",
      "building tree 231 of 275\n",
      "building tree 232 of 275\n",
      "building tree 233 of 275\n",
      "building tree 234 of 275\n",
      "building tree 235 of 275\n",
      "building tree 236 of 275\n",
      "building tree 237 of 275\n",
      "building tree 238 of 275\n",
      "building tree 239 of 275\n",
      "building tree 240 of 275\n",
      "building tree 241 of 275\n",
      "building tree 242 of 275\n",
      "building tree 243 of 275\n",
      "building tree 244 of 275\n",
      "building tree 245 of 275\n",
      "building tree 246 of 275\n",
      "building tree 247 of 275\n",
      "building tree 248 of 275\n",
      "building tree 249 of 275\n",
      "building tree 250 of 275\n",
      "building tree 251 of 275\n",
      "building tree 252 of 275\n",
      "building tree 253 of 275\n",
      "building tree 254 of 275\n",
      "building tree 255 of 275\n",
      "building tree 256 of 275\n",
      "building tree 257 of 275\n",
      "building tree 258 of 275\n",
      "building tree 259 of 275\n",
      "building tree 260 of 275\n",
      "building tree 261 of 275\n",
      "building tree 262 of 275\n",
      "building tree 263 of 275\n",
      "building tree 264 of 275\n",
      "building tree 265 of 275\n",
      "building tree 266 of 275\n",
      "building tree 267 of 275\n",
      "building tree 268 of 275\n",
      "building tree 269 of 275\n",
      "building tree 270 of 275\n",
      "building tree 271 of 275\n",
      "building tree 272 of 275\n",
      "building tree 273 of 275\n",
      "building tree 274 of 275\n",
      "building tree 275 of 275\n"
     ]
    },
    {
     "name": "stderr",
     "output_type": "stream",
     "text": [
      "[Parallel(n_jobs=1)]: Done  40 tasks      | elapsed:    0.1s\n",
      "[Parallel(n_jobs=1)]: Done 161 tasks      | elapsed:    0.4s\n"
     ]
    },
    {
     "name": "stdout",
     "output_type": "stream",
     "text": [
      "AUC: 0.9193703053549162\n",
      "AMS: 0.32955719944115763\n",
      "AMS total: 2.3303213051369007\n"
     ]
    }
   ],
   "source": [
    "#from sklearn.ensemble import RandomForestClassifier\n",
    "\n",
    "\n",
    "#clf = RandomForestClassifier(n_estimators=275, \n",
    "#                            criterion='gini', \n",
    "#                             verbose=1\n",
    "#                           )\n",
    "\n",
    "#clf.fit(x_train, y_train)\n",
    "#\n",
    "#printScore(clf)"
   ]
  },
  {
   "cell_type": "code",
   "execution_count": 27,
   "metadata": {},
   "outputs": [],
   "source": [
    "#clf.feature_importances_"
   ]
  },
  {
   "cell_type": "markdown",
   "metadata": {
    "editable": true,
    "slideshow": {
     "slide_type": ""
    },
    "tags": []
   },
   "source": [
    "## halving grid"
   ]
  },
  {
   "cell_type": "code",
   "execution_count": null,
   "metadata": {},
   "outputs": [],
   "source": [
    "from sklearn.pipeline import Pipeline\n",
    "from sklearn.experimental import enable_halving_search_cv # noqa\n",
    "from sklearn.model_selection import HalvingGridSearchCV\n",
    "\n",
    "\n",
    "clf = RandomForestClassifier()\n",
    "\n",
    "\n",
    "param_grid = {\n",
    "    'n_estimators': [100, 200, 500, 1000], \n",
    "    'max_features': ['auto', 'sqrt', 'log2'],  \n",
    "    'max_depth': [None, 10, 20, 30, 40, 50], \n",
    "    'min_samples_split': [2, 5, 10, 20],\n",
    "    'min_samples_leaf': [1, 2, 4, 10], \n",
    "    'bootstrap': [True, False],\n",
    "    'criterion': ['gini', 'entropy', 'log_loss'], \n",
    "    'class_weight': [None, 'balanced', 'balanced_subsample'], \n",
    "    'max_leaf_nodes': [None, 10, 20, 30, 40, 50], \n",
    "    'min_impurity_decrease': [0.0, 0.01, 0.1]\n",
    "    }\n",
    "\n",
    "\n",
    "grid_search = HalvingGridSearchCV(estimator=pipe, param_grid=param_grid, scoring='accuracy', verbose=2, cv=4, random_state=0)\n",
    "\n",
    "grid_search.fit(x_train, y_train)\n",
    "\n",
    "grid_results = pd.DataFrame(grid_search.cv_results_)\n",
    "\n",
    "grid_results.to_csv('second_search.csv', index=False)\n"
   ]
  },
  {
   "cell_type": "code",
   "execution_count": null,
   "metadata": {},
   "outputs": [],
   "source": []
  }
 ],
 "metadata": {
  "kernelspec": {
   "display_name": "Python 3 (ipykernel)",
   "language": "python",
   "name": "python3"
  },
  "language_info": {
   "codemirror_mode": {
    "name": "ipython",
    "version": 3
   },
   "file_extension": ".py",
   "mimetype": "text/x-python",
   "name": "python",
   "nbconvert_exporter": "python",
   "pygments_lexer": "ipython3",
   "version": "3.10.11"
  }
 },
 "nbformat": 4,
 "nbformat_minor": 4
}
